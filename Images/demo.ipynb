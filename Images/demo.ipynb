{
 "cells": [
  {
   "cell_type": "code",
   "execution_count": 1,
   "metadata": {},
   "outputs": [],
   "source": [
    "import quandl"
   ]
  },
  {
   "cell_type": "code",
   "execution_count": 2,
   "metadata": {},
   "outputs": [],
   "source": [
    "AUTH_TOKEN = \"ndBQKFBT67jPFP6s9uET\"\n"
   ]
  },
  {
   "cell_type": "code",
   "execution_count": 28,
   "metadata": {},
   "outputs": [],
   "source": [
    "data = quandl.get(\"WIKI/AMZN\", start_date=\"2017-01-31\", end_date=\"2018-08-21\",api_key=ACCESS_KEY)"
   ]
  },
  {
   "cell_type": "code",
   "execution_count": 29,
   "metadata": {},
   "outputs": [
    {
     "name": "stdout",
     "output_type": "stream",
     "text": [
      "               Open       High        Low    Close      Volume  Ex-Dividend  \\\n",
      "Date                                                                          \n",
      "2017-01-31   823.75   826.9900   819.5600   823.48   3137196.0          0.0   \n",
      "2017-02-01   829.21   833.7800   824.9400   832.35   3850181.0          0.0   \n",
      "2017-02-02   836.59   842.4900   828.2600   839.95   7350492.0          0.0   \n",
      "2017-02-03   806.72   818.3000   804.0000   810.20  10868773.0          0.0   \n",
      "2017-02-06   809.80   810.7200   803.0000   807.64   3897301.0          0.0   \n",
      "2017-02-07   809.31   816.1600   807.5000   812.50   3466091.0          0.0   \n",
      "2017-02-08   812.69   821.4790   812.5000   819.71   2857985.0          0.0   \n",
      "2017-02-09   821.60   825.0000   819.7100   821.36   2484948.0          0.0   \n",
      "2017-02-10   823.82   828.0000   822.8500   827.46   2429609.0          0.0   \n",
      "2017-02-13   831.62   842.9999   828.5500   836.53   4172618.0          0.0   \n",
      "2017-02-14   837.00   838.3100   831.4522   836.39   2792442.0          0.0   \n",
      "2017-02-15   834.00   842.8100   832.8200   842.70   2968853.0          0.0   \n",
      "2017-02-16   841.84   845.0000   839.3750   844.14   2714667.0          0.0   \n",
      "2017-02-17   842.00   847.2700   840.7300   845.07   3112275.0          0.0   \n",
      "2017-02-21   848.84   857.9800   847.2500   856.44   3507742.0          0.0   \n",
      "2017-02-22   856.95   858.4300   852.1800   855.61   2616971.0          0.0   \n",
      "2017-02-23   857.57   860.8600   848.0000   852.19   3461984.0          0.0   \n",
      "2017-02-24   844.69   845.8100   837.7501   845.24   3687963.0          0.0   \n",
      "2017-02-27   842.38   852.5000   839.6700   848.64   2713627.0          0.0   \n",
      "2017-02-28   851.45   854.0900   842.0500   845.04   2793709.0          0.0   \n",
      "2017-03-01   853.05   854.8300   849.0100   853.08   2760083.0          0.0   \n",
      "2017-03-02   853.08   854.8200   847.2800   848.91   2132098.0          0.0   \n",
      "2017-03-03   847.20   851.9850   846.2700   849.88   1951575.0          0.0   \n",
      "2017-03-06   845.23   848.4900   841.1200   846.61   2610370.0          0.0   \n",
      "2017-03-07   845.48   848.4600   843.7500   846.02   2247554.0          0.0   \n",
      "2017-03-08   848.00   853.0700   846.7900   850.50   2288317.0          0.0   \n",
      "2017-03-09   851.00   856.3999   850.3100   853.00   2048187.0          0.0   \n",
      "2017-03-10   857.00   857.3500   851.7200   852.46   2436434.0          0.0   \n",
      "2017-03-13   851.77   855.6900   851.7100   854.59   1909672.0          0.0   \n",
      "2017-03-14   853.55   853.7500   847.5500   852.53   2130586.0          0.0   \n",
      "...             ...        ...        ...      ...         ...          ...   \n",
      "2018-02-13  1385.93  1419.7200  1383.5300  1414.51   5858860.0          0.0   \n",
      "2018-02-14  1406.25  1452.0600  1403.3600  1451.05   5881238.0          0.0   \n",
      "2018-02-15  1466.89  1468.9400  1436.8400  1461.76   5598111.0          0.0   \n",
      "2018-02-16  1457.37  1465.8000  1446.5600  1448.69   4410879.0          0.0   \n",
      "2018-02-20  1446.49  1488.7700  1446.4900  1468.35   6388374.0          0.0   \n",
      "2018-02-21  1485.00  1503.4900  1478.9200  1482.92   6216694.0          0.0   \n",
      "2018-02-22  1495.36  1502.5400  1475.7600  1484.76   4732555.0          0.0   \n",
      "2018-02-23  1495.34  1500.0000  1486.5000  1500.00   4327008.0          0.0   \n",
      "2018-02-26  1509.20  1522.8400  1507.0000  1521.95   4909053.0          0.0   \n",
      "2018-02-27  1524.50  1526.7800  1507.2100  1511.98   4708378.0          0.0   \n",
      "2018-02-28  1519.51  1528.7000  1512.0000  1512.45   4426580.0          0.0   \n",
      "2018-03-01  1513.60  1518.4900  1465.0000  1493.45   6835230.0          0.0   \n",
      "2018-03-02  1469.10  1501.0500  1455.0100  1500.25   6587564.0          0.0   \n",
      "2018-03-05  1494.24  1525.3800  1481.0000  1523.61   5233934.0          0.0   \n",
      "2018-03-06  1533.20  1542.1300  1528.0000  1537.64   4561718.0          0.0   \n",
      "2018-03-07  1526.52  1545.9000  1522.5100  1545.00   4174123.0          0.0   \n",
      "2018-03-08  1550.00  1554.8800  1545.2500  1551.86   3512528.0          0.0   \n",
      "2018-03-09  1563.50  1578.9400  1559.0800  1578.89   4417059.0          0.0   \n",
      "2018-03-12  1592.60  1605.3300  1586.7000  1598.39   5115886.0          0.0   \n",
      "2018-03-13  1615.96  1617.5400  1578.0100  1588.18   6427066.0          0.0   \n",
      "2018-03-14  1597.00  1606.4400  1590.8900  1591.00   4164395.0          0.0   \n",
      "2018-03-15  1595.00  1596.9100  1578.1100  1582.32   4026744.0          0.0   \n",
      "2018-03-16  1583.45  1589.4400  1567.5000  1571.68   5145054.0          0.0   \n",
      "2018-03-19  1554.53  1561.6600  1525.3500  1544.93   6376619.0          0.0   \n",
      "2018-03-20  1550.34  1587.0000  1545.4100  1586.51   4507049.0          0.0   \n",
      "2018-03-21  1586.45  1590.0000  1563.1700  1581.86   4667291.0          0.0   \n",
      "2018-03-22  1565.47  1573.8500  1542.4000  1544.10   6177737.0          0.0   \n",
      "2018-03-23  1539.01  1549.0200  1495.3600  1495.56   7843966.0          0.0   \n",
      "2018-03-26  1530.00  1556.9900  1499.2500  1555.86   5547618.0          0.0   \n",
      "2018-03-27  1572.40  1575.9600  1482.3200  1497.05   6793279.0          0.0   \n",
      "\n",
      "            Split Ratio  Adj. Open  Adj. High   Adj. Low  Adj. Close  \\\n",
      "Date                                                                   \n",
      "2017-01-31          1.0     823.75   826.9900   819.5600      823.48   \n",
      "2017-02-01          1.0     829.21   833.7800   824.9400      832.35   \n",
      "2017-02-02          1.0     836.59   842.4900   828.2600      839.95   \n",
      "2017-02-03          1.0     806.72   818.3000   804.0000      810.20   \n",
      "2017-02-06          1.0     809.80   810.7200   803.0000      807.64   \n",
      "2017-02-07          1.0     809.31   816.1600   807.5000      812.50   \n",
      "2017-02-08          1.0     812.69   821.4790   812.5000      819.71   \n",
      "2017-02-09          1.0     821.60   825.0000   819.7100      821.36   \n",
      "2017-02-10          1.0     823.82   828.0000   822.8500      827.46   \n",
      "2017-02-13          1.0     831.62   842.9999   828.5500      836.53   \n",
      "2017-02-14          1.0     837.00   838.3100   831.4522      836.39   \n",
      "2017-02-15          1.0     834.00   842.8100   832.8200      842.70   \n",
      "2017-02-16          1.0     841.84   845.0000   839.3750      844.14   \n",
      "2017-02-17          1.0     842.00   847.2700   840.7300      845.07   \n",
      "2017-02-21          1.0     848.84   857.9800   847.2500      856.44   \n",
      "2017-02-22          1.0     856.95   858.4300   852.1800      855.61   \n",
      "2017-02-23          1.0     857.57   860.8600   848.0000      852.19   \n",
      "2017-02-24          1.0     844.69   845.8100   837.7501      845.24   \n",
      "2017-02-27          1.0     842.38   852.5000   839.6700      848.64   \n",
      "2017-02-28          1.0     851.45   854.0900   842.0500      845.04   \n",
      "2017-03-01          1.0     853.05   854.8300   849.0100      853.08   \n",
      "2017-03-02          1.0     853.08   854.8200   847.2800      848.91   \n",
      "2017-03-03          1.0     847.20   851.9850   846.2700      849.88   \n",
      "2017-03-06          1.0     845.23   848.4900   841.1200      846.61   \n",
      "2017-03-07          1.0     845.48   848.4600   843.7500      846.02   \n",
      "2017-03-08          1.0     848.00   853.0700   846.7900      850.50   \n",
      "2017-03-09          1.0     851.00   856.3999   850.3100      853.00   \n",
      "2017-03-10          1.0     857.00   857.3500   851.7200      852.46   \n",
      "2017-03-13          1.0     851.77   855.6900   851.7100      854.59   \n",
      "2017-03-14          1.0     853.55   853.7500   847.5500      852.53   \n",
      "...                 ...        ...        ...        ...         ...   \n",
      "2018-02-13          1.0    1385.93  1419.7200  1383.5300     1414.51   \n",
      "2018-02-14          1.0    1406.25  1452.0600  1403.3600     1451.05   \n",
      "2018-02-15          1.0    1466.89  1468.9400  1436.8400     1461.76   \n",
      "2018-02-16          1.0    1457.37  1465.8000  1446.5600     1448.69   \n",
      "2018-02-20          1.0    1446.49  1488.7700  1446.4900     1468.35   \n",
      "2018-02-21          1.0    1485.00  1503.4900  1478.9200     1482.92   \n",
      "2018-02-22          1.0    1495.36  1502.5400  1475.7600     1484.76   \n",
      "2018-02-23          1.0    1495.34  1500.0000  1486.5000     1500.00   \n",
      "2018-02-26          1.0    1509.20  1522.8400  1507.0000     1521.95   \n",
      "2018-02-27          1.0    1524.50  1526.7800  1507.2100     1511.98   \n",
      "2018-02-28          1.0    1519.51  1528.7000  1512.0000     1512.45   \n",
      "2018-03-01          1.0    1513.60  1518.4900  1465.0000     1493.45   \n",
      "2018-03-02          1.0    1469.10  1501.0500  1455.0100     1500.25   \n",
      "2018-03-05          1.0    1494.24  1525.3800  1481.0000     1523.61   \n",
      "2018-03-06          1.0    1533.20  1542.1300  1528.0000     1537.64   \n",
      "2018-03-07          1.0    1526.52  1545.9000  1522.5100     1545.00   \n",
      "2018-03-08          1.0    1550.00  1554.8800  1545.2500     1551.86   \n",
      "2018-03-09          1.0    1563.50  1578.9400  1559.0800     1578.89   \n",
      "2018-03-12          1.0    1592.60  1605.3300  1586.7000     1598.39   \n",
      "2018-03-13          1.0    1615.96  1617.5400  1578.0100     1588.18   \n",
      "2018-03-14          1.0    1597.00  1606.4400  1590.8900     1591.00   \n",
      "2018-03-15          1.0    1595.00  1596.9100  1578.1100     1582.32   \n",
      "2018-03-16          1.0    1583.45  1589.4400  1567.5000     1571.68   \n",
      "2018-03-19          1.0    1554.53  1561.6600  1525.3500     1544.93   \n",
      "2018-03-20          1.0    1550.34  1587.0000  1545.4100     1586.51   \n",
      "2018-03-21          1.0    1586.45  1590.0000  1563.1700     1581.86   \n",
      "2018-03-22          1.0    1565.47  1573.8500  1542.4000     1544.10   \n",
      "2018-03-23          1.0    1539.01  1549.0200  1495.3600     1495.56   \n",
      "2018-03-26          1.0    1530.00  1556.9900  1499.2500     1555.86   \n",
      "2018-03-27          1.0    1572.40  1575.9600  1482.3200     1497.05   \n",
      "\n",
      "            Adj. Volume  \n",
      "Date                     \n",
      "2017-01-31    3137196.0  \n",
      "2017-02-01    3850181.0  \n",
      "2017-02-02    7350492.0  \n",
      "2017-02-03   10868773.0  \n",
      "2017-02-06    3897301.0  \n",
      "2017-02-07    3466091.0  \n",
      "2017-02-08    2857985.0  \n",
      "2017-02-09    2484948.0  \n",
      "2017-02-10    2429609.0  \n",
      "2017-02-13    4172618.0  \n",
      "2017-02-14    2792442.0  \n",
      "2017-02-15    2968853.0  \n",
      "2017-02-16    2714667.0  \n",
      "2017-02-17    3112275.0  \n",
      "2017-02-21    3507742.0  \n",
      "2017-02-22    2616971.0  \n",
      "2017-02-23    3461984.0  \n",
      "2017-02-24    3687963.0  \n",
      "2017-02-27    2713627.0  \n",
      "2017-02-28    2793709.0  \n",
      "2017-03-01    2760083.0  \n",
      "2017-03-02    2132098.0  \n",
      "2017-03-03    1951575.0  \n",
      "2017-03-06    2610370.0  \n",
      "2017-03-07    2247554.0  \n",
      "2017-03-08    2288317.0  \n",
      "2017-03-09    2048187.0  \n",
      "2017-03-10    2436434.0  \n",
      "2017-03-13    1909672.0  \n",
      "2017-03-14    2130586.0  \n",
      "...                 ...  \n",
      "2018-02-13    5858860.0  \n",
      "2018-02-14    5881238.0  \n",
      "2018-02-15    5598111.0  \n",
      "2018-02-16    4410879.0  \n",
      "2018-02-20    6388374.0  \n",
      "2018-02-21    6216694.0  \n",
      "2018-02-22    4732555.0  \n",
      "2018-02-23    4327008.0  \n",
      "2018-02-26    4909053.0  \n",
      "2018-02-27    4708378.0  \n",
      "2018-02-28    4426580.0  \n",
      "2018-03-01    6835230.0  \n",
      "2018-03-02    6587564.0  \n",
      "2018-03-05    5233934.0  \n",
      "2018-03-06    4561718.0  \n",
      "2018-03-07    4174123.0  \n",
      "2018-03-08    3512528.0  \n",
      "2018-03-09    4417059.0  \n",
      "2018-03-12    5115886.0  \n",
      "2018-03-13    6427066.0  \n",
      "2018-03-14    4164395.0  \n",
      "2018-03-15    4026744.0  \n",
      "2018-03-16    5145054.0  \n",
      "2018-03-19    6376619.0  \n",
      "2018-03-20    4507049.0  \n",
      "2018-03-21    4667291.0  \n",
      "2018-03-22    6177737.0  \n",
      "2018-03-23    7843966.0  \n",
      "2018-03-26    5547618.0  \n",
      "2018-03-27    6793279.0  \n",
      "\n",
      "[289 rows x 12 columns]\n"
     ]
    }
   ],
   "source": [
    "print(data)"
   ]
  },
  {
   "cell_type": "code",
   "execution_count": 30,
   "metadata": {},
   "outputs": [
    {
     "data": {
      "text/plain": [
       "Index(['Open', 'High', 'Low', 'Close', 'Volume', 'Ex-Dividend', 'Split Ratio',\n",
       "       'Adj. Open', 'Adj. High', 'Adj. Low', 'Adj. Close', 'Adj. Volume'],\n",
       "      dtype='object')"
      ]
     },
     "execution_count": 30,
     "metadata": {},
     "output_type": "execute_result"
    }
   ],
   "source": [
    "data.columns"
   ]
  },
  {
   "cell_type": "code",
   "execution_count": 31,
   "metadata": {},
   "outputs": [
    {
     "name": "stdout",
     "output_type": "stream",
     "text": [
      "(289, 12)\n"
     ]
    }
   ],
   "source": [
    "print(data.shape)"
   ]
  },
  {
   "cell_type": "code",
   "execution_count": 24,
   "metadata": {},
   "outputs": [],
   "source": []
  },
  {
   "cell_type": "code",
   "execution_count": 1,
   "metadata": {},
   "outputs": [],
   "source": [
    "# image heatmaps"
   ]
  },
  {
   "cell_type": "code",
   "execution_count": null,
   "metadata": {},
   "outputs": [],
   "source": []
  },
  {
   "cell_type": "code",
   "execution_count": 8,
   "metadata": {},
   "outputs": [
    {
     "data": {
      "image/png": "[encoded data removed]",
      "text/plain": [
       "<Figure size 432x288 with 2 Axes>"
      ]
     },
     "metadata": {},
     "output_type": "display_data"
    }
   ],
   "source": [
    "import numpy as np\n",
    "import matplotlib.pyplot as plt\n",
    "import matplotlib.colors as mcolors\n",
    "plt.style.use('dark_background')\n",
    "import cv2\n",
    "\n",
    "#2D Gaussian function\n",
    "def twoD_Gaussian(x,y, xo, yo, sigma_x, sigma_y):\n",
    "    a = 1./(2*sigma_x**2) + 1./(2*sigma_y**2)\n",
    "    c = 1./(2*sigma_x**2) + 1./(2*sigma_y**2)\n",
    "    g = np.exp( - (a*((x-xo)**2) + c*((y-yo)**2)))\n",
    "    return g.ravel()\n",
    "\n",
    "\n",
    "def transparent_cmap(cmap, N=255):\n",
    "    \"Copy colormap and set alpha values\"\n",
    "\n",
    "    mycmap = cmap\n",
    "    mycmap._init()\n",
    "    mycmap._lut[:,-1] = np.linspace(0, 0.8, N+4)\n",
    "    return mycmap\n",
    "\n",
    "\n",
    "#Use base cmap to create transparent\n",
    "mycmap = transparent_cmap(plt.cm.PuBuGn)\n",
    "\n",
    "\n",
    "# Import image and get x and y extents\n",
    "I = cv2.imread('../381003-PC1HWV-475.jpg')\n",
    "p = np.asarray(I).astype('float')\n",
    "w, h = I.shape[0],I.shape[1]\n",
    "y, x = np.mgrid[0:h, 0:w]\n",
    "\n",
    "#Plot image and overlay colormap\n",
    "fig, ax = plt.subplots(1, 1)\n",
    "ax.imshow(I)\n",
    "Gauss = twoD_Gaussian(x, y, .5*x.max(), .4*y.max(), .1*x.max(), .1*y.max())\n",
    "cb = ax.contourf(x, y, Gauss.reshape(x.shape[0], y.shape[1]), 5, cmap=mycmap)\n",
    "plt.colorbar(cb)\n",
    "plt.show()"
   ]
  },
  {
   "cell_type": "code",
   "execution_count": 9,
   "metadata": {},
   "outputs": [
    {
     "data": {
      "text/plain": [
       "['bmh',\n",
       " 'classic',\n",
       " 'dark_background',\n",
       " 'fast',\n",
       " 'fivethirtyeight',\n",
       " 'ggplot',\n",
       " 'grayscale',\n",
       " 'seaborn-bright',\n",
       " 'seaborn-colorblind',\n",
       " 'seaborn-dark-palette',\n",
       " 'seaborn-dark',\n",
       " 'seaborn-darkgrid',\n",
       " 'seaborn-deep',\n",
       " 'seaborn-muted',\n",
       " 'seaborn-notebook',\n",
       " 'seaborn-paper',\n",
       " 'seaborn-pastel',\n",
       " 'seaborn-poster',\n",
       " 'seaborn-talk',\n",
       " 'seaborn-ticks',\n",
       " 'seaborn-white',\n",
       " 'seaborn-whitegrid',\n",
       " 'seaborn',\n",
       " 'Solarize_Light2',\n",
       " 'tableau-colorblind10',\n",
       " '_classic_test']"
      ]
     },
     "execution_count": 9,
     "metadata": {},
     "output_type": "execute_result"
    }
   ],
   "source": [
    "plt.style.available"
   ]
  },
  {
   "cell_type": "code",
   "execution_count": 6,
   "metadata": {},
   "outputs": [],
   "source": [
    "Gauss = twoD_Gaussian(x, y, .5*x.max(), .4*y.max(), .1*x.max(), .1*y.max())\n"
   ]
  },
  {
   "cell_type": "code",
   "execution_count": 21,
   "metadata": {},
   "outputs": [
    {
     "name": "stdout",
     "output_type": "stream",
     "text": [
      "(4000000,)\n"
     ]
    }
   ],
   "source": [
    "print(Gauss.shape)"
   ]
  },
  {
   "cell_type": "code",
   "execution_count": 23,
   "metadata": {},
   "outputs": [
    {
     "data": {
      "text/plain": [
       "(2000, 2000)"
      ]
     },
     "execution_count": 23,
     "metadata": {},
     "output_type": "execute_result"
    }
   ],
   "source": [
    "Gauss.reshape(x.shape[0], y.shape[1]).shape"
   ]
  },
  {
   "cell_type": "code",
   "execution_count": null,
   "metadata": {},
   "outputs": [],
   "source": []
  }
 ],
 "metadata": {
  "kernelspec": {
   "display_name": "Python 3",
   "language": "python",
   "name": "python3"
  },
  "language_info": {
   "codemirror_mode": {
    "name": "ipython",
    "version": 3
   },
   "file_extension": ".py",
   "mimetype": "text/x-python",
   "name": "python",
   "nbconvert_exporter": "python",
   "pygments_lexer": "ipython3",
   "version": "3.6.1"
  }
 },
 "nbformat": 4,
 "nbformat_minor": 2
}
